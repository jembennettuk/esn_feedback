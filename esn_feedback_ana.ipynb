{
 "cells": [
  {
   "cell_type": "code",
   "execution_count": null,
   "metadata": {},
   "outputs": [],
   "source": [
    "import glob as gl\n",
    "import os\n",
    "import numpy as np\n",
    "import torch\n",
    "import matplotlib.pyplot as pl\n",
    "import matplotlib as mpl\n",
    "import myutils as mu"
   ]
  },
  {
   "cell_type": "code",
   "execution_count": 33,
   "metadata": {},
   "outputs": [],
   "source": [
    "def esn_feedback_ana(key,**kwa):\n",
    "\n",
    "    ### Load accuracy data\n",
    "    if key=='loadData':\n",
    "        # kwa needs: modName, expName, dataName\n",
    "        baseDirName = '/home/jb739/sheffield/proj/esn_feedback/data/'+kwa['modName']+'_'+kwa['expName']\n",
    "        dirNames = gl.glob(baseDirName+'_*'); dirNames.sort()\n",
    "        complete = torch.load('/home/jb739/sheffield/proj/esn_feedback/data/'+kwa['modName']+'_'+kwa['expName']+'_0/complete.pt') \n",
    "        nLR = complete.shape[0]\n",
    "        data = []; nRuns = []\n",
    "        for j,dirName in enumerate(dirNames): # loop over learning rates\n",
    "            runs = complete[j,:]>0 # Boolean vector of which runs completed\n",
    "            nRuns.append(np.sum(runs.long().numpy())) # Number of completed runs\n",
    "            if nRuns[j]>0:  # If there are any runs, do:\n",
    "                fileNames = gl.glob(dirName+'/'+kwa['dataName']+'*'); fileNames.sort()\n",
    "                temp = torch.load(fileNames[0])                \n",
    "                data.append(np.expand_dims(np.array(torch.load(fileNames[0])), axis=1))\n",
    "                for k in range(1,len(fileNames)): # loop over runs (random seeds)\n",
    "                    data[j] = np.concatenate((data[j], np.expand_dims(np.array(torch.load(fileNames[k])), axis=1)), axis=1)\n",
    "            else:\n",
    "                 data.append([])\n",
    "\n",
    "        return data\n",
    "    \n",
    "    ### Plot accuracies\n",
    "    if key=='plotAcc':\n",
    "        # kwa needs: acc, saveFlag, figDir, figName\n",
    "        mu.setupMatplotlib()\n",
    "        acc = kwa['acc']\n",
    "        nEpochs = acc[0].shape[0]\n",
    "        n = len(acc)\n",
    "        col1 = np.array(tuple(x**2 for x in (0.,1.,0.3))); col2 = np.array(tuple(x**2 for x in (0.8, 0., 1.)))\n",
    "        colShade = np.linspace(0.,1.,n)\n",
    "        kernel = np.ones(50)/50\n",
    "        fig = pl.figure(figsize=tuple(np.array((6.,4.))/2.54)); ax = pl.axes()\n",
    "        ax.spines[['top','right']].set_visible(False)\n",
    "        for j in range(n):\n",
    "            col = tuple(np.sqrt(colShade[j]**2 * col2 + colShade[n-1-j]**2 * col1))\n",
    "            if np.size(acc[j])>0:\n",
    "                pl.plot(np.linspace(1,nEpochs,nEpochs),np.convolve(np.pad(np.mean(acc[j],1), (50,50), mode='edge'),kernel,mode='same')[50:-50], linewidth=1.0, color=col)\n",
    "        ax.xaxis.set_ticks((0,nEpochs)); ax.yaxis.set_ticks((0,1))\n",
    "        if kwa['saveFlag']:\n",
    "            mu.checkMakeDir(kwa['figDir'])\n",
    "            pl.savefig(kwa['figDir']+'/'+kwa['figName']+'.svg', format=\"svg\")\n",
    "    \n",
    "    ### Load saved responses\n",
    "    if key=='loadResp':\n",
    "        # kwa needs: modName, expName, dataName, selectLR, maxNSeeds, layer\n",
    "        baseDirName = '/home/jb739/sheffield/proj/esn_feedback/data/'+kwa['modName']+'_'+kwa['expName']+'_*'\n",
    "        dataDirNames = gl.glob(baseDirName); dataDirNames.sort()\n",
    "        data = []\n",
    "        for j,d in enumerate(dataDirNames): # For each learning rate\n",
    "            if j!=kwa['selectLR']: # For selected best learning rate\n",
    "                continue\n",
    "            baseFileName = d+'/'+kwa['dataName']+'*'\n",
    "            fNames = gl.glob(baseFileName); fNames.sort()\n",
    "            for f, fName in enumerate(fNames): # For each seed\n",
    "                if f==kwa['maxNSeeds']: # Only process maxNSeeds seeds\n",
    "                    break\n",
    "                # Load response data from fName (1 layer only)\n",
    "                r = torch.load(fName)[kwa['layer']] \n",
    "                # Create new list element for r-data, with shape [#iterations saved, #samples, #neurons x #time steps]\n",
    "                # data.append(np.reshape(r, (r.shape[0], r.shape[1], r.shape[2]*r.shape[3]))) \n",
    "                data.append(r) \n",
    "\n",
    "        return data\n",
    "    \n",
    "    ### Compute principle components\n",
    "    if key=='computePCA':\n",
    "        # kwa needs: data\n",
    "        from sklearn.decomposition import PCA\n",
    "        from scipy import stats\n",
    "        # Preprocess data\n",
    "        if len(kwa['data'].shape)>3:\n",
    "            data = kwa['data'][-1,:,:,:]\n",
    "        else:\n",
    "            data = kwa['data']\n",
    "        # for j in range(data.shape[0]):\n",
    "        #     data[j,:,:] = stats.zscore(data[j,:,:])\n",
    "        # Init PCA object\n",
    "        pca = PCA(n_components=100)\n",
    "        # Perform PCA and return transformed data (last saved time point)\n",
    "        # p = pca.fit_transform(np.mean(data[-2,:,:]))\n",
    "        print(np.sum(np.double(np.isnan(data))))\n",
    "        p = pca.fit_transform(np.mean(data[:,:,-5:], axis=2))\n",
    "        return p, pca\n",
    "    \n",
    "    ### Plot class trajectories and clusters in PCA space\n",
    "    if key=='plotPCA':\n",
    "        # kwa needs: data, pca, pc, saveTime, saveFlag, figDir, \n",
    "        ### Process inputs\n",
    "        data = kwa['data'] # Responses\n",
    "        pca = kwa['pca'] # PCA function\n",
    "        pc = kwa['pc'] # 1st 2 PCs that define PC space\n",
    "        var = np.cumsum(np.array(list(x*100 for x in pca.explained_variance_ratio_)))\n",
    "        if len(kwa['data'].shape)>3:\n",
    "            nt = data.shape[3]\n",
    "        else:\n",
    "            nt = data.shape[2]\n",
    "        mapData = np.zeros((data.shape[1], 2, nt))\n",
    "        if len(kwa['data'].shape)>3:\n",
    "            for t in range(nt):\n",
    "                mapData[:,:,t] = pca.transform(data[kwa['saveTime'],:,:,t])[:,0:2]\n",
    "        else:\n",
    "            for t in range(nt):\n",
    "                mapData[:,:,t] = pca.transform(data[:,:,t])[:,0:2]\n",
    "        \n",
    "        ### Generate figures\n",
    "        mu.setupMatplotlib()\n",
    "        # Plot variance explained\n",
    "        fig = pl.figure(figsize=tuple(np.array((2.,4.))/2.54)); ax = pl.axes()\n",
    "        ax.spines[['top','right']].set_visible(False)\n",
    "        pl.scatter(np.linspace(1,100,var.shape[0]), var, s=3,c='k', alpha=0.5)\n",
    "        pl.plot(np.linspace(1,100,2), np.ones(2)*90, '--', color=(0.5, 0.5, 0.5), linewidth=0.5)\n",
    "        ax.set_xscale('log')\n",
    "        # pl.xticks([1,10,100], ['1','10','100'], minor=[2,3,4,5,6,7,8,9,20,30,40,50,60,70,80,90])\n",
    "        ax.xaxis.set_ticks((1,10,100)); ax.yaxis.set_ticks((0,100))\n",
    "        ax.get_xaxis().set_major_formatter(mpl.ticker.ScalarFormatter())\n",
    "        ax.set_xlim(xmin=0.5, xmax=100); ax.set_ylim(ymin=0, ymax=100)\n",
    "        if kwa['saveFlag']:\n",
    "            mu.checkMakeDir(kwa['figDir'])\n",
    "            pl.savefig(kwa['figDir']+'varExplained.svg', format=\"svg\")\n",
    "        # Plot PCA clusters\n",
    "        fig = pl.figure(figsize=tuple(np.array((4.,4.))/2.54)); ax = pl.axes()\n",
    "        ax.spines[['top','right']].set_visible(False)\n",
    "        for j in range(10):\n",
    "            col = mpl.colormaps['tab10'].colors[j]\n",
    "            pl.scatter(pc[j*10:(j+1)*10,0], pc[j*10:(j+1)*10,1], s=3, c=col)\n",
    "        ax.xaxis.set_ticks((-10,0,10)); ax.yaxis.set_ticks((-10,0,10))\n",
    "        ax.set_xlim(xmin=-16, xmax=16); ax.set_ylim(ymin=-16, ymax=16)\n",
    "        if kwa['saveFlag']:\n",
    "            mu.checkMakeDir(kwa['figDir'])\n",
    "            pl.savefig(kwa['figDir']+'pcaClusters.svg', format=\"svg\")\n",
    "        ### Plot mean class response trajectory in PC space\n",
    "        fig = pl.figure(figsize=tuple(np.array((4.,4.))/2.54)); ax = pl.axes()\n",
    "        ax.spines[['top','right']].set_visible(False)\n",
    "        scale = np.logspace(-1,0,nt)\n",
    "        for j in range(10):\n",
    "            col = mpl.colormaps['tab10'].colors[j]\n",
    "            for t in range(mapData.shape[2]-1):\n",
    "                colT = tuple(x**scale[t] for x in col)\n",
    "                pl.plot(np.mean(mapData[j*10:(j+1)*10,0,t:t+2], axis=0), np.mean(mapData[j*10:(j+1)*10,1,t:t+2], axis=0), color=colT, linewidth=1)\n",
    "        ax.xaxis.set_ticks((-10,0,10)); ax.yaxis.set_ticks((-10,0,10))\n",
    "        ax.set_xlim(xmin=-16, xmax=16); ax.set_ylim(ymin=-16, ymax=16)\n",
    "        if kwa['saveFlag']:\n",
    "            mu.checkMakeDir(kwa['figDir'])\n",
    "            pl.savefig(kwa['figDir']+'pcaTraj.svg', format=\"svg\")\n",
    "    \n",
    "    ### Compute clustering index\n",
    "    if key=='clusterIndex':\n",
    "        # kwa needs: data\n",
    "        ### Compute Silhuoette Index\n",
    "        if len(kwa['data'].shape)>3:\n",
    "            r = np.mean(kwa['data'][-1,:,:,-5:], axis=2)\n",
    "        else:\n",
    "            r = np.mean(kwa['data'][:,:,-5:], axis=2)\n",
    "        ns = r.shape[0] # No. samples\n",
    "        nc = 10 # No. clusters\n",
    "        dist = np.zeros((r.shape[0], r.shape[0]))\n",
    "        # Compute distances between samples\n",
    "        for j in range(ns):\n",
    "            dist[:,j] = np.sqrt(np.sum((r - np.roll(r, -j, axis=0))**2, axis=1))\n",
    "        # Rearrange dist to yield distance matrix\n",
    "        # Fill diagonal of dist matrix with NaNs\n",
    "        for j in range(ns):\n",
    "            dist[j,:] = np.roll(np.expand_dims(dist[j,:], axis=0), j, axis=1)\n",
    "            dist[j,j] = np.NaN\n",
    "        # Compute mean distance from each sample to each cluster\n",
    "        mDist = np.zeros((ns, nc))\n",
    "        for j in range(nc):\n",
    "            mDist[:,j] = np.nanmean(dist[:,j*10:(j+1)*10], axis=1)\n",
    "        # Rearrange mDist so that each sample's own cluster is in first column\n",
    "        for j in range(nc):\n",
    "            mDist[j*10:(j+1)*10,:] = np.roll(mDist[j*10:(j+1)*10,:], -j, axis=1)\n",
    "        # Calculate Silhuoette Index\n",
    "        a = np.expand_dims(mDist[:,0], axis=1); b = np.expand_dims(np.min(mDist[:,1:], axis=1), axis=1)\n",
    "        SI = np.divide(b - a, np.expand_dims(np.max(np.concatenate((a,b), axis=1), axis=1), axis=1))\n",
    "\n",
    "        return SI\n",
    "    \n",
    "    ### Plot cluster indeces\n",
    "    if key=='plotClusterIndex':\n",
    "        # kwa needs: ci, figDir, saveFlag\n",
    "        ci = kwa['ci']\n",
    "        mu.setupMatplotlib()\n",
    "        fig = pl.figure(figsize=tuple(np.array((4.,4.))/2.54)); ax = pl.axes()\n",
    "        ax.spines[['top','right']].set_visible(False)\n",
    "        for j in range(10):\n",
    "            col = mpl.colormaps['tab10'].colors[j]\n",
    "            # pl.plot(np.linspace(j*10+1,(j+1)*10,10), ci[j*10:(j+1)*10], linewidth=1, color=col)\n",
    "            pl.scatter(np.linspace(j*10+1,(j+1)*10,10), ci[j*10:(j+1)*10], s=3, c=col)\n",
    "        pl.plot(np.linspace(0,101,2), np.ones(2)*np.mean(ci), '--', color=(0.5, 0.5, 0.5), linewidth=0.5)\n",
    "        ax.xaxis.set_ticks((1,100)); ax.yaxis.set_ticks((-1,0,1))\n",
    "        ax.set_xlim(xmin=0, xmax=101); ax.set_ylim(ymin=-1, ymax=1)\n",
    "        if kwa['saveFlag']:\n",
    "            mu.checkMakeDir(kwa['figDir'])\n",
    "            pl.savefig(kwa['figDir']+'clusterIndex.svg', format=\"svg\")\n",
    "\n",
    "    ### Plot mean cluster indeces across runs for all models\n",
    "    if key=='allSI':\n",
    "        # kwa needs: prefix\n",
    "        # Load data and compute silhouette indeces\n",
    "        baseName = '/home/jb739/sheffield/proj/esn_feedback/data/'\n",
    "        models = ('FB0', 'FB1', 'FB2', 'FB3')\n",
    "        experiment = 'swLR'\n",
    "        si = np.zeros((len(models), 5))\n",
    "        for j, model in enumerate(models):\n",
    "            dirNames = gl.glob(baseName+kwa['prefix']+model+'_'+experiment+'_*'); dirNames.sort(); print(baseName+kwa['prefix']+model+'_'+experiment+'_*'); dirName = dirNames[6]            \n",
    "            dataName = 'respSave'\n",
    "            r = esn_feedback_ana('loadResp',modName=model,expName=experiment,dataName=dataName,selectLR=6,maxNSeeds=5,layer=1)\n",
    "            for k in range(len(r)):\n",
    "                si[j,k] = np.mean(esn_feedback_ana('clusterIndex',data=r[k]))\n",
    "\n",
    "        return si\n",
    "        \n",
    "    ### Plot all mean SIs\n",
    "    if key=='plotAllSI':\n",
    "        # kwa needs: si, figDir, prefix\n",
    "        si = kwa['si']\n",
    "        mSI = np.mean(si,axis=1)\n",
    "        sSI = np.std(si, axis=1)\n",
    "        mu.setupMatplotlib()\n",
    "        fig = pl.figure(figsize=tuple(np.array((4.,4.))/2.54)); ax = pl.axes()\n",
    "        ax.spines[['top','right']].set_visible(False)\n",
    "        for j in range(si.shape[0]):\n",
    "            pl.scatter(j+np.random.uniform(-0.25,0.25,(si.shape[1],1)), si[j,:], c=(0., 0., 0., 0.33), s=3)\n",
    "        pl.errorbar(list(range(4)), mSI, yerr=sSI, fmt='o', color='k', markersize=3)\n",
    "        ax.xaxis.set_ticks(list(range(4))); ax.yaxis.set_ticks((-1,0,1))\n",
    "        ax.set_xlim(xmin=-0.5, xmax=3.5); ax.set_ylim(ymin=-1, ymax=1)\n",
    "        if kwa['saveFlag']:\n",
    "            mu.checkMakeDir(kwa['figDir'])\n",
    "            pl.savefig(kwa['figDir']+'/'+kwa['prefix']+'allSI.svg', format=\"svg\")\n",
    "\n",
    "    ### Plot delta_w \n",
    "    if key=='plotDW':\n",
    "        # kwa needs: modName, expName, dataName, figDir\n",
    "        baseDirName = '/home/jb739/sheffield/proj/esn_feedback/data/'+kwa['modName']+'_'+kwa['expName']\n",
    "        dirNames = gl.glob(baseDirName+'_*'); dirNames.sort()\n",
    "        complete = torch.load('/home/jb739/sheffield/proj/esn_feedback/data/'+kwa['modName']+'_'+kwa['expName']+'_0/complete.pt') \n",
    "        nLR = complete.shape[0]\n",
    "        dw = []\n",
    "        dwMean = []\n",
    "        nRuns = []\n",
    "        for j in range(nLR): # Loop over learning rates\n",
    "            runs = complete[j,:]>0         # Boolean vector of which runs completed\n",
    "            nRuns.append(np.sum(runs.long().numpy()))      # Number of completed runs\n",
    "            if nRuns[j]>0:  # If there are any runs, do:                \n",
    "                fileNames = gl.glob(dirNames[j]+'/dw*'); fileNames.sort() # Get run filenames\n",
    "                dw.append(np.expand_dims(np.array(torch.load(fileNames[0])), axis=1)) # store dw for first complete run\n",
    "                for k in range(1, nRuns[j]): # for all other completed runs\n",
    "                    dw[j] = np.concatenate((dw[j], np.expand_dims(np.array(torch.load(fileNames[k])), axis=1)), axis=1) # store dw for completed run k\n",
    "                dwMean.append(np.mean(dw[j], 1)) # compute time series of mean dw across runs\n",
    "            else:\n",
    "                # if no completed runs, append empty arrays\n",
    "                dw.append([]) \n",
    "                dwMean.append([]) \n",
    "        \n",
    "        ### Plot dwMean\n",
    "        mu.setupMatplotlib()\n",
    "        fig = pl.figure(figsize=tuple(np.array((4.,6.))/2.54)); ax = pl.axes()\n",
    "        ax.spines[['top','right']].set_visible(False)\n",
    "        col1 = np.array(tuple(x**2 for x in (0.,1.,0.3))); col2 = np.array(tuple(x**2 for x in (0.8, 0., 1.)))\n",
    "        colShade = np.linspace(0.,1.,nLR)\n",
    "        kernel = np.ones(50)/50\n",
    "        nIter = dw[0].shape[0]\n",
    "        for j in range(nLR):\n",
    "            if nRuns[j]>0:\n",
    "                col = tuple(np.sqrt(colShade[j]**2 * col2 + colShade[nLR-1-j]**2 * col1))\n",
    "                pl.plot(np.linspace(1,nIter,nIter),np.convolve(np.pad(dwMean[j], (50,50), mode='edge'),kernel,mode='same')[50:-50], linewidth=1.0, color=col)\n",
    "        print(np.max(dwMean[6]))\n",
    "        ax.xaxis.set_ticks((0,nIter)); \n",
    "        # ax.set_ylim(ymax=0.01)\n",
    "        pl.yscale('log')\n",
    "        if kwa['saveFlag']:\n",
    "            mu.checkMakeDir(kwa['figDir'])\n",
    "            pl.savefig(kwa['figDir']+'/dw_vs_time.svg', format=\"svg\")\n",
    "      \n",
    "        \n",
    "\n",
    "\n",
    "        \n"
   ]
  },
  {
   "attachments": {},
   "cell_type": "markdown",
   "metadata": {},
   "source": [
    "# Select and run analyses\n"
   ]
  },
  {
   "attachments": {},
   "cell_type": "markdown",
   "metadata": {},
   "source": [
    "### Plot training and validation accuracies\n"
   ]
  },
  {
   "cell_type": "code",
   "execution_count": 51,
   "metadata": {},
   "outputs": [
    {
     "data": {
      "image/png": "[encoded data removed]",
      "text/plain": [
       "<Figure size 236.22x157.48 with 1 Axes>"
      ]
     },
     "metadata": {},
     "output_type": "display_data"
    }
   ],
   "source": [
    "model = 'metFB2'\n",
    "experiment = 'swLR'\n",
    "key = 'loadData'; dataName = 'out_accValTa'\n",
    "acc = esn_feedback_ana(key,modName=model,expName=experiment,dataName=dataName)\n",
    "key = 'plotAcc'; saveFlag = False\n",
    "esn_feedback_ana(key,acc=acc,saveFlag=saveFlag, figDir='./figs/'+model+'_'+experiment+'/', figName=dataName)"
   ]
  },
  {
   "cell_type": "code",
   "execution_count": 52,
   "metadata": {},
   "outputs": [
    {
     "name": "stdout",
     "output_type": "stream",
     "text": [
      "0.6255199806690216\n",
      "0.5866799798011779\n",
      "0.6654799878001214\n",
      "0.6457999935746193\n",
      "0.627719987988472\n",
      "0.5694799873232841\n",
      "0.6849999822974205\n",
      "0.6642399785518646\n",
      "0.6455599774122238\n"
     ]
    }
   ],
   "source": [
    "# To estimate which LR to use for further analyses\n",
    "for i in range(len(acc)):\n",
    "    if np.size(acc[i])>0:\n",
    "        print(np.mean(np.mean(acc[i][-100:,:], axis=0)))\n",
    "    else:\n",
    "        print('None')"
   ]
  },
  {
   "attachments": {},
   "cell_type": "markdown",
   "metadata": {},
   "source": [
    "### Perform PCA and clustering analyses on final hidden layer responses"
   ]
  },
  {
   "cell_type": "code",
   "execution_count": 66,
   "metadata": {},
   "outputs": [
    {
     "name": "stdout",
     "output_type": "stream",
     "text": [
      "0.0\n"
     ]
    },
    {
     "name": "stderr",
     "output_type": "stream",
     "text": [
      "/tmp/ipykernel_30529/3148061853.py:128: UserWarning: *c* argument looks like a single numeric RGB or RGBA sequence, which should be avoided as value-mapping will have precedence in case its length matches with *x* & *y*.  Please use the *color* keyword-argument or provide a 2D array with a single row if you intend to specify the same RGB or RGBA value for all points.\n",
      "  pl.scatter(pc[j*10:(j+1)*10,0], pc[j*10:(j+1)*10,1], s=3, c=col)\n",
      "/tmp/ipykernel_30529/3148061853.py:191: UserWarning: *c* argument looks like a single numeric RGB or RGBA sequence, which should be avoided as value-mapping will have precedence in case its length matches with *x* & *y*.  Please use the *color* keyword-argument or provide a 2D array with a single row if you intend to specify the same RGB or RGBA value for all points.\n",
      "  pl.scatter(np.linspace(j*10+1,(j+1)*10,10), ci[j*10:(j+1)*10], s=3, c=col)\n"
     ]
    },
    {
     "data": {
      "image/png": "[encoded data removed]",
      "text/plain": [
       "<Figure size 78.7402x157.48 with 1 Axes>"
      ]
     },
     "metadata": {},
     "output_type": "display_data"
    },
    {
     "data": {
      "image/png": "[encoded data removed]",
      "text/plain": [
       "<Figure size 157.48x157.48 with 1 Axes>"
      ]
     },
     "metadata": {},
     "output_type": "display_data"
    },
    {
     "data": {
      "image/png": "[encoded data removed]",
      "text/plain": [
       "<Figure size 157.48x157.48 with 1 Axes>"
      ]
     },
     "metadata": {},
     "output_type": "display_data"
    },
    {
     "data": {
      "image/png": "[encoded data removed]",
      "text/plain": [
       "<Figure size 157.48x157.48 with 1 Axes>"
      ]
     },
     "metadata": {},
     "output_type": "display_data"
    }
   ],
   "source": [
    "### Plot response examples\n",
    "saveFlag=False\n",
    "# Load data\n",
    "model = 'metFB2'; experiment = 'swLR'; key = 'loadResp'; dataName = 'respSave11117'\n",
    "r = esn_feedback_ana(key,modName=model,expName=experiment,dataName=dataName,selectLR=6,maxNSeeds=1,layer=1)\n",
    "# Compute principle components\n",
    "key = 'computePCA'\n",
    "p, *pca = esn_feedback_ana(key,data=r[0])\n",
    "# Plot PCs\n",
    "key = 'plotPCA'\n",
    "esn_feedback_ana(key,data=r[0], pca=pca[0], pc=p, saveTime=-1, saveFlag=saveFlag, figDir='./figs/'+model+'_'+experiment+'/')\n",
    "# Compute Clustering Index\n",
    "key = 'clusterIndex'\n",
    "SI = esn_feedback_ana(key,data=r[0])\n",
    "# Plot cluster indeces\n",
    "key = 'plotClusterIndex'; figDir = './figs/'+model+'_'+experiment+'/'\n",
    "esn_feedback_ana(key, ci=SI, figDir=figDir, saveFlag=saveFlag)\n",
    "# Plot mean SI across runs for all models\n",
    "key = 'plotMeanSI'; \n",
    "esn_feedback_ana(key)"
   ]
  },
  {
   "cell_type": "code",
   "execution_count": null,
   "metadata": {},
   "outputs": [],
   "source": [
    "### Plot results summary for all models\n",
    "key = 'allSI'\n",
    "si = esn_feedback_ana(key, prefix='met_')\n",
    "key = 'plotAllSI'; figDir='./figs/swLR'\n",
    "esn_feedback_ana(key, si=si, figDir=figDir, saveFlag=False)\n",
    "print(si)\n"
   ]
  },
  {
   "attachments": {},
   "cell_type": "markdown",
   "metadata": {},
   "source": [
    "### Plot feedback weight evolution"
   ]
  },
  {
   "cell_type": "code",
   "execution_count": null,
   "metadata": {},
   "outputs": [],
   "source": [
    "weights=torch.load('/home/jb739/sheffield/proj/esn_feedback/data/met_FB3_swLR_8/weightSave11117.pt')\n",
    "fig = pl.figure(figsize=tuple(np.array((20.,5.))/2.54)); ax = pl.axes()\n",
    "ax.spines[['top','right']].set_visible(False)\n",
    "for j in range(0,1000,100):\n",
    "    pl.plot(np.linspace(1,5000,26),weights[::2,j,:].transpose(), linewidth=0.5)\n",
    "ax.xaxis.set_ticks((0,5000)); ax.yaxis.set_ticks((-.05,0,.05)); ax.set_ylim(-.5,.5)\n",
    "print(weights[0,0,:])"
   ]
  },
  {
   "attachments": {},
   "cell_type": "markdown",
   "metadata": {},
   "source": [
    "### Plot evolution of mean weight changes"
   ]
  },
  {
   "cell_type": "code",
   "execution_count": null,
   "metadata": {},
   "outputs": [],
   "source": [
    "saveFlag = False\n",
    "key = 'plotDW'; model = 'FB0'; experiment = 'swLR'; dataName = 'respSave11119'\n",
    "esn_feedback_ana(key, saveFlag=saveFlag, modName=model, expName=experiment, figDir='./figs/'+model+'_'+experiment+'/')"
   ]
  }
 ],
 "metadata": {
  "kernelspec": {
   "display_name": "venv",
   "language": "python",
   "name": "python3"
  },
  "language_info": {
   "codemirror_mode": {
    "name": "ipython",
    "version": 3
   },
   "file_extension": ".py",
   "mimetype": "text/x-python",
   "name": "python",
   "nbconvert_exporter": "python",
   "pygments_lexer": "ipython3",
   "version": "3.8.16"
  },
  "orig_nbformat": 4
 },
 "nbformat": 4,
 "nbformat_minor": 2
}
